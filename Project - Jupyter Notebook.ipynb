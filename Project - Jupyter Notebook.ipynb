{
 "cells": [
  {
   "cell_type": "code",
   "execution_count": 1,
   "id": "61051578",
   "metadata": {},
   "outputs": [],
   "source": [
    "# My Jupyter Notebook on IBM Watson Studio"
   ]
  },
  {
   "cell_type": "code",
   "execution_count": 6,
   "id": "f8f5f1fc",
   "metadata": {},
   "outputs": [
    {
     "data": {
      "text/plain": [
       "'My desired job is Data Scientist'"
      ]
     },
     "execution_count": 6,
     "metadata": {},
     "output_type": "execute_result"
    }
   ],
   "source": [
    "## **Marco Camas**\n",
    "\"My desired job is Data Scientist\""
   ]
  },
  {
   "cell_type": "code",
   "execution_count": 7,
   "id": "637a81c8",
   "metadata": {},
   "outputs": [
    {
     "data": {
      "text/plain": [
       "'I am interested in data science because I find it intersting to gather data and analyze it in order to make business decisions'"
      ]
     },
     "execution_count": 7,
     "metadata": {},
     "output_type": "execute_result"
    }
   ],
   "source": [
    "\"I am interested in data science because I find it intersting to gather data and analyze it in order to make business decisions\""
   ]
  },
  {
   "cell_type": "code",
   "execution_count": 8,
   "id": "087e2a7d",
   "metadata": {},
   "outputs": [
    {
     "data": {
      "text/plain": [
       "'The code supposed to add to numbers toghether'"
      ]
     },
     "execution_count": 8,
     "metadata": {},
     "output_type": "execute_result"
    }
   ],
   "source": [
    "\"The code supposed to add to numbers toghether\""
   ]
  },
  {
   "cell_type": "code",
   "execution_count": 9,
   "id": "162f71f6",
   "metadata": {},
   "outputs": [
    {
     "data": {
      "text/plain": [
       "10"
      ]
     },
     "execution_count": 9,
     "metadata": {},
     "output_type": "execute_result"
    }
   ],
   "source": [
    "5 + 5"
   ]
  },
  {
   "cell_type": "code",
   "execution_count": 16,
   "id": "25609592",
   "metadata": {},
   "outputs": [
    {
     "data": {
      "text/plain": [
       "'The link has info for data science https://www.oracle.com/data-science/what-is-data-science/'"
      ]
     },
     "execution_count": 16,
     "metadata": {},
     "output_type": "execute_result"
    }
   ],
   "source": [
    "\"The link has info for data science https://www.oracle.com/data-science/what-is-data-science/\""
   ]
  },
  {
   "cell_type": "code",
   "execution_count": null,
   "id": "88cb6b96",
   "metadata": {},
   "outputs": [],
   "source": []
  }
 ],
 "metadata": {
  "kernelspec": {
   "display_name": "Python 3 (ipykernel)",
   "language": "python",
   "name": "python3"
  },
  "language_info": {
   "codemirror_mode": {
    "name": "ipython",
    "version": 3
   },
   "file_extension": ".py",
   "mimetype": "text/x-python",
   "name": "python",
   "nbconvert_exporter": "python",
   "pygments_lexer": "ipython3",
   "version": "3.9.7"
  }
 },
 "nbformat": 4,
 "nbformat_minor": 5
}
